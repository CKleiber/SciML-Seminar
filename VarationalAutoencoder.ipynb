{
 "cells": [
  {
   "cell_type": "code",
   "execution_count": 1,
   "metadata": {},
   "outputs": [],
   "source": [
    "import torch\n",
    "import torch.nn as nn\n",
    "import torch.optim as optim\n",
    "\n",
    "import tqdm\n",
    "import pickle\n",
    "import matplotlib.pyplot as plt\n",
    "import numpy as np\n",
    "from sklearn.model_selection import train_test_split\n",
    "\n",
    "from sklearn.datasets import make_moons\n",
    "from torchvision import datasets, transforms"
   ]
  },
  {
   "cell_type": "markdown",
   "metadata": {},
   "source": [
    "## Define basic Variational Autoencoder and neessary routines"
   ]
  },
  {
   "cell_type": "code",
   "execution_count": 160,
   "metadata": {},
   "outputs": [],
   "source": [
    "# variational autoencoder skeleton\n",
    "\n",
    "class VAE(nn.Module):\n",
    "    def __init__(self, input_size, num_hidden_layers, hidden_layer_size, bottleneck_size):\n",
    "        super(VAE, self).__init__()\n",
    "\n",
    "        # define architecture of the vae\n",
    "        self.input_size = input_size\n",
    "        self.num_hidden_layers = num_hidden_layers\n",
    "        self.hidden_layer_size = hidden_layer_size\n",
    "        self.bottleneck_size = bottleneck_size\n",
    "        \n",
    "        # construct the encoder, and decoder\n",
    "        self.encoder = self.construct_encoder()\n",
    "        self.decoder = self.construct_decoder()\n",
    "\n",
    "        #define loss function and optimizer\n",
    "        self.mse_loss_function = nn.MSELoss(reduction='mean')\n",
    "        self.kl_loss_function = nn.KLDivLoss(reduction='mean')\n",
    "\n",
    "        self.mse_weight = 1000\n",
    "\n",
    "        self.optimizer = optim.Adam(self.parameters(), lr=0.001)\n",
    "\n",
    "    def loss_function(self, x, x_hat, mu, log_var):\n",
    "        # loss function\n",
    "        mse_loss = self.mse_loss_function(x, x_hat)\n",
    "        kl_loss = torch.mean(-0.5 * sum(1 + log_var - torch.square(mu) - torch.square(torch.exp(log_var)))) #self.kl_loss_function(mu, log_var)\n",
    "        return self.mse_weight* mse_loss +  kl_loss\n",
    "\n",
    "    def construct_encoder(self):\n",
    "        # construct the encoder\n",
    "        encoder = nn.Sequential()\n",
    "\n",
    "        encoder.add_module('input', nn.Linear(self.input_size, self.hidden_layer_size))\n",
    "        encoder.add_module('relu_input', nn.ReLU())\n",
    "\n",
    "        for i in range(self.num_hidden_layers - 1):\n",
    "            encoder.add_module('hidden_' + str(i), nn.Linear(self.hidden_layer_size, self.hidden_layer_size))\n",
    "            encoder.add_module('relu_' + str(i), nn.ReLU())\n",
    "\n",
    "        # split output into mu and var components\n",
    "        #encoder.add_module('mu', nn.Linear(self.hidden_layer_size, self.bottleneck_size))\n",
    "        #encoder.add_module('log_var', nn.Linear(self.hidden_layer_size, self.bottleneck_size))\n",
    "\n",
    "        encoder.add_module('bottleneck', nn.Linear(self.hidden_layer_size, self.bottleneck_size*2))\n",
    "\n",
    "        return encoder\n",
    "    \n",
    "    def reparameterise(self, mu, log_var):\n",
    "        # reparameterise\n",
    "        std = torch.exp(0.5 * log_var)\n",
    "        eps = torch.randn_like(std)\n",
    "        return mu + eps * std\n",
    "    \n",
    "    def construct_decoder(self):\n",
    "        # construct the decoder\n",
    "        decoder = nn.Sequential()\n",
    "\n",
    "        decoder.add_module('input', nn.Linear(self.bottleneck_size, self.hidden_layer_size))\n",
    "        decoder.add_module('relu_input', nn.ReLU())\n",
    "\n",
    "        for i in range(self.num_hidden_layers - 1):\n",
    "            decoder.add_module('hidden_' + str(i), nn.Linear(self.hidden_layer_size, self.hidden_layer_size))\n",
    "            decoder.add_module('relu_' + str(i), nn.ReLU())\n",
    "\n",
    "        decoder.add_module('output', nn.Linear(self.hidden_layer_size, self.input_size))\n",
    "\n",
    "        return decoder\n",
    "    \n",
    "    def forward(self, x):\n",
    "        # forward pass\n",
    "        x = self.encoder(x)\n",
    "        mu, log_var = torch.chunk(x, 2, dim=-1)\n",
    "        z = self.reparameterise(mu, log_var)\n",
    "        x = self.decoder(z)\n",
    "        return x, mu, log_var\n",
    "    "
   ]
  },
  {
   "cell_type": "code",
   "execution_count": 138,
   "metadata": {},
   "outputs": [],
   "source": [
    "# define training loop\n",
    "\n",
    "def train_vae(model, X_train, X_val, n_epochs=10, batchsize=32, verbose=True):\n",
    "    loss_history = {\n",
    "        'train': [],\n",
    "        'val': []\n",
    "    }\n",
    "\n",
    "    if verbose:\n",
    "        pbar = tqdm.tqdm(range(n_epochs))\n",
    "    else:\n",
    "        pbar = range(n_epochs)\n",
    "    i = 0\n",
    "    for epoch in pbar:\n",
    "        print(i)\n",
    "        i += 1\n",
    "        # training\n",
    "        model.train()\n",
    "        train_loss = 0\n",
    "        for i in tqdm.tqdm(range(0, X_train.shape[0], batchsize)):\n",
    "            batch = X_train[i:i+batchsize]\n",
    "            model.optimizer.zero_grad()\n",
    "            output, mu, log_var = model(batch)\n",
    "            loss = model.loss_function(batch, output, mu, log_var)\n",
    "            loss.backward()\n",
    "            model.optimizer.step()\n",
    "            train_loss += loss.item()\n",
    "        train_loss /= X_train.shape[0]\n",
    "        loss_history['train'].append(train_loss)\n",
    "\n",
    "        # validation\n",
    "        model.eval()\n",
    "        val_loss = 0\n",
    "        with torch.no_grad():\n",
    "            for i in tqdm.tqdm(range(0, X_val.shape[0], batchsize)):\n",
    "                batch = X_val[i:i+batchsize]\n",
    "                output, mu, log_var = model(batch)\n",
    "                loss = model.loss_function(batch, output, mu, log_var)\n",
    "                val_loss += loss.item()\n",
    "            val_loss /= X_val.shape[0]\n",
    "            loss_history['val'].append(val_loss)\n",
    "\n",
    "        #print loss\n",
    "        if verbose:\n",
    "            pbar.set_description('Epoch: {}/{}, train loss: {:.4f}, val loss: {:.4f}'.format(epoch+1, n_epochs, train_loss, val_loss))\n",
    "        \n",
    "    return loss_history"
   ]
  },
  {
   "cell_type": "code",
   "execution_count": 125,
   "metadata": {},
   "outputs": [],
   "source": [
    "# define function to plot loss history\n",
    "\n",
    "def plot_loss_history(loss_history):\n",
    "    fig, ax = plt.subplots(1, 1, figsize=(10, 5))\n",
    "\n",
    "    epochs_linspace = np.linspace(1, len(loss_history['train']), len(loss_history['train']))\n",
    "\n",
    "    ax.scatter(epochs_linspace, loss_history['train'], label='train loss', marker='o')\n",
    "    ax.scatter(epochs_linspace, loss_history['val'], label='val loss', marker='x')\n",
    "\n",
    "    ax.plot(epochs_linspace, loss_history['train'])\n",
    "    ax.plot(epochs_linspace, loss_history['val'])\n",
    "\n",
    "    ax.set_xlabel('Epoch')\n",
    "    ax.set_ylabel('Loss')\n",
    "\n",
    "    #ax.set_yscale('log')\n",
    "\n",
    "    ax.grid(alpha=0.35)\n",
    "    ax.legend()"
   ]
  },
  {
   "cell_type": "markdown",
   "metadata": {},
   "source": [
    "## Use the VAE for a 2D dataset"
   ]
  },
  {
   "cell_type": "code",
   "execution_count": 161,
   "metadata": {},
   "outputs": [],
   "source": [
    "# architecture of the vae\n",
    "\n",
    "INPUT_SIZE = 2\n",
    "BOTTLENECK_SIZE = 1\n",
    "HIDDEN_SIZE = 64\n",
    "HIDDEN_LAYERS = 5\n",
    "\n",
    "vae_moons = VAE(INPUT_SIZE, HIDDEN_LAYERS, HIDDEN_SIZE, BOTTLENECK_SIZE)"
   ]
  },
  {
   "cell_type": "code",
   "execution_count": 130,
   "metadata": {},
   "outputs": [],
   "source": [
    "# load data\n",
    "\n",
    "dataset_size = 5000\n",
    "\n",
    "dataset = make_moons(n_samples=dataset_size, noise=0.1)[0]\n",
    "\n",
    "#split into train and val\n",
    "\n",
    "X_train, X_val = train_test_split(dataset, test_size=0.2)\n",
    "\n",
    "X_val, X_test = train_test_split(X_val, test_size=0.5)"
   ]
  },
  {
   "cell_type": "code",
   "execution_count": 162,
   "metadata": {},
   "outputs": [
    {
     "name": "stderr",
     "output_type": "stream",
     "text": [
      "  0%|          | 0/25 [00:00<?, ?it/s]"
     ]
    },
    {
     "name": "stdout",
     "output_type": "stream",
     "text": [
      "0\n"
     ]
    },
    {
     "name": "stderr",
     "output_type": "stream",
     "text": [
      "100%|██████████| 125/125 [00:00<00:00, 214.78it/s]\n",
      "100%|██████████| 16/16 [00:00<00:00, 1142.84it/s]\n",
      "Epoch: 1/25, train loss: 10.1967, val loss: 5.4495:   4%|▍         | 1/25 [00:00<00:14,  1.66it/s]"
     ]
    },
    {
     "name": "stdout",
     "output_type": "stream",
     "text": [
      "480\n"
     ]
    },
    {
     "name": "stderr",
     "output_type": "stream",
     "text": [
      "100%|██████████| 125/125 [00:00<00:00, 212.22it/s]\n",
      "100%|██████████| 16/16 [00:00<00:00, 1230.75it/s]\n",
      "Epoch: 2/25, train loss: 4.8676, val loss: 4.6249:   8%|▊         | 2/25 [00:01<00:13,  1.65it/s] "
     ]
    },
    {
     "name": "stdout",
     "output_type": "stream",
     "text": [
      "480\n"
     ]
    },
    {
     "name": "stderr",
     "output_type": "stream",
     "text": [
      "100%|██████████| 125/125 [00:00<00:00, 208.33it/s]\n",
      "100%|██████████| 16/16 [00:00<00:00, 1230.77it/s]\n",
      "Epoch: 3/25, train loss: 4.3502, val loss: 4.4401:  12%|█▏        | 3/25 [00:01<00:13,  1.63it/s]"
     ]
    },
    {
     "name": "stdout",
     "output_type": "stream",
     "text": [
      "480\n"
     ]
    },
    {
     "name": "stderr",
     "output_type": "stream",
     "text": [
      "100%|██████████| 125/125 [00:00<00:00, 219.30it/s]\n",
      "100%|██████████| 16/16 [00:00<00:00, 1142.96it/s]\n",
      "Epoch: 4/25, train loss: 3.9698, val loss: 3.7361:  16%|█▌        | 4/25 [00:02<00:12,  1.66it/s]"
     ]
    },
    {
     "name": "stdout",
     "output_type": "stream",
     "text": [
      "480\n"
     ]
    },
    {
     "name": "stderr",
     "output_type": "stream",
     "text": [
      "100%|██████████| 125/125 [00:00<00:00, 220.46it/s]\n",
      "100%|██████████| 16/16 [00:00<00:00, 1454.71it/s]\n",
      "Epoch: 5/25, train loss: 3.8121, val loss: 3.7519:  20%|██        | 5/25 [00:03<00:11,  1.68it/s]"
     ]
    },
    {
     "name": "stdout",
     "output_type": "stream",
     "text": [
      "480\n"
     ]
    },
    {
     "name": "stderr",
     "output_type": "stream",
     "text": [
      "100%|██████████| 125/125 [00:00<00:00, 217.77it/s]\n",
      "100%|██████████| 16/16 [00:00<00:00, 1230.84it/s]\n",
      "Epoch: 6/25, train loss: 3.6679, val loss: 3.5767:  24%|██▍       | 6/25 [00:03<00:11,  1.68it/s]"
     ]
    },
    {
     "name": "stdout",
     "output_type": "stream",
     "text": [
      "480\n"
     ]
    },
    {
     "name": "stderr",
     "output_type": "stream",
     "text": [
      "100%|██████████| 125/125 [00:00<00:00, 189.97it/s]\n",
      "100%|██████████| 16/16 [00:00<00:00, 1066.10it/s]\n",
      "Epoch: 7/25, train loss: 3.6965, val loss: 3.5885:  28%|██▊       | 7/25 [00:04<00:11,  1.60it/s]"
     ]
    },
    {
     "name": "stdout",
     "output_type": "stream",
     "text": [
      "480\n"
     ]
    },
    {
     "name": "stderr",
     "output_type": "stream",
     "text": [
      "100%|██████████| 125/125 [00:00<00:00, 194.10it/s]\n",
      "100%|██████████| 16/16 [00:00<00:00, 1230.95it/s]\n",
      "Epoch: 8/25, train loss: 3.5346, val loss: 3.5452:  32%|███▏      | 8/25 [00:04<00:10,  1.57it/s]"
     ]
    },
    {
     "name": "stdout",
     "output_type": "stream",
     "text": [
      "480\n"
     ]
    },
    {
     "name": "stderr",
     "output_type": "stream",
     "text": [
      "100%|██████████| 125/125 [00:00<00:00, 190.26it/s]\n",
      "100%|██████████| 16/16 [00:00<00:00, 1142.63it/s]\n",
      "Epoch: 9/25, train loss: 3.5698, val loss: 3.3577:  36%|███▌      | 9/25 [00:05<00:10,  1.54it/s]"
     ]
    },
    {
     "name": "stdout",
     "output_type": "stream",
     "text": [
      "480\n"
     ]
    },
    {
     "name": "stderr",
     "output_type": "stream",
     "text": [
      "100%|██████████| 125/125 [00:00<00:00, 199.04it/s]\n",
      "100%|██████████| 16/16 [00:00<00:00, 1142.80it/s]\n",
      "Epoch: 10/25, train loss: 3.5628, val loss: 3.4635:  40%|████      | 10/25 [00:06<00:09,  1.54it/s]"
     ]
    },
    {
     "name": "stdout",
     "output_type": "stream",
     "text": [
      "480\n"
     ]
    },
    {
     "name": "stderr",
     "output_type": "stream",
     "text": [
      "100%|██████████| 125/125 [00:00<00:00, 195.31it/s]\n",
      "100%|██████████| 16/16 [00:00<00:00, 1230.63it/s]\n",
      "Epoch: 11/25, train loss: 3.4679, val loss: 3.3432:  44%|████▍     | 11/25 [00:06<00:09,  1.53it/s]"
     ]
    },
    {
     "name": "stdout",
     "output_type": "stream",
     "text": [
      "480\n"
     ]
    },
    {
     "name": "stderr",
     "output_type": "stream",
     "text": [
      "100%|██████████| 125/125 [00:00<00:00, 189.39it/s]\n",
      "100%|██████████| 16/16 [00:00<00:00, 1230.95it/s]\n",
      "Epoch: 12/25, train loss: 3.4091, val loss: 3.5166:  48%|████▊     | 12/25 [00:07<00:08,  1.51it/s]"
     ]
    },
    {
     "name": "stdout",
     "output_type": "stream",
     "text": [
      "480\n"
     ]
    },
    {
     "name": "stderr",
     "output_type": "stream",
     "text": [
      "100%|██████████| 125/125 [00:00<00:00, 197.47it/s]\n",
      "100%|██████████| 16/16 [00:00<00:00, 1333.38it/s]\n",
      "Epoch: 13/25, train loss: 3.4137, val loss: 3.3201:  52%|█████▏    | 13/25 [00:08<00:07,  1.52it/s]"
     ]
    },
    {
     "name": "stdout",
     "output_type": "stream",
     "text": [
      "480\n"
     ]
    },
    {
     "name": "stderr",
     "output_type": "stream",
     "text": [
      "100%|██████████| 125/125 [00:00<00:00, 186.29it/s]\n",
      "100%|██████████| 16/16 [00:00<00:00, 1333.19it/s]\n",
      "Epoch: 14/25, train loss: 3.3695, val loss: 3.1905:  56%|█████▌    | 14/25 [00:08<00:07,  1.50it/s]"
     ]
    },
    {
     "name": "stdout",
     "output_type": "stream",
     "text": [
      "480\n"
     ]
    },
    {
     "name": "stderr",
     "output_type": "stream",
     "text": [
      "100%|██████████| 125/125 [00:00<00:00, 194.40it/s]\n",
      "100%|██████████| 16/16 [00:00<00:00, 1230.81it/s]\n",
      "Epoch: 15/25, train loss: 3.3684, val loss: 3.1893:  60%|██████    | 15/25 [00:09<00:06,  1.50it/s]"
     ]
    },
    {
     "name": "stdout",
     "output_type": "stream",
     "text": [
      "480\n"
     ]
    },
    {
     "name": "stderr",
     "output_type": "stream",
     "text": [
      "100%|██████████| 125/125 [00:00<00:00, 195.31it/s]\n",
      "100%|██████████| 16/16 [00:00<00:00, 1333.40it/s]\n",
      "Epoch: 16/25, train loss: 3.3751, val loss: 3.4113:  64%|██████▍   | 16/25 [00:10<00:05,  1.51it/s]"
     ]
    },
    {
     "name": "stdout",
     "output_type": "stream",
     "text": [
      "480\n"
     ]
    },
    {
     "name": "stderr",
     "output_type": "stream",
     "text": [
      "100%|██████████| 125/125 [00:00<00:00, 197.47it/s]\n",
      "100%|██████████| 16/16 [00:00<00:00, 1142.98it/s]\n",
      "Epoch: 17/25, train loss: 3.3097, val loss: 3.1247:  68%|██████▊   | 17/25 [00:10<00:05,  1.51it/s]"
     ]
    },
    {
     "name": "stdout",
     "output_type": "stream",
     "text": [
      "480\n"
     ]
    },
    {
     "name": "stderr",
     "output_type": "stream",
     "text": [
      "100%|██████████| 125/125 [00:00<00:00, 196.85it/s]\n",
      "100%|██████████| 16/16 [00:00<00:00, 1142.90it/s]\n",
      "Epoch: 18/25, train loss: 3.3016, val loss: 3.2416:  72%|███████▏  | 18/25 [00:11<00:04,  1.52it/s]"
     ]
    },
    {
     "name": "stdout",
     "output_type": "stream",
     "text": [
      "480\n"
     ]
    },
    {
     "name": "stderr",
     "output_type": "stream",
     "text": [
      "100%|██████████| 125/125 [00:00<00:00, 198.10it/s]\n",
      "100%|██████████| 16/16 [00:00<00:00, 1454.84it/s]\n",
      "Epoch: 19/25, train loss: 3.3354, val loss: 3.4026:  76%|███████▌  | 19/25 [00:12<00:03,  1.52it/s]"
     ]
    },
    {
     "name": "stdout",
     "output_type": "stream",
     "text": [
      "480\n"
     ]
    },
    {
     "name": "stderr",
     "output_type": "stream",
     "text": [
      "100%|██████████| 125/125 [00:00<00:00, 192.01it/s]\n",
      "100%|██████████| 16/16 [00:00<00:00, 1142.76it/s]\n",
      "Epoch: 20/25, train loss: 3.2091, val loss: 3.0956:  80%|████████  | 20/25 [00:12<00:03,  1.51it/s]"
     ]
    },
    {
     "name": "stdout",
     "output_type": "stream",
     "text": [
      "480\n"
     ]
    },
    {
     "name": "stderr",
     "output_type": "stream",
     "text": [
      "100%|██████████| 125/125 [00:00<00:00, 193.80it/s]\n",
      "100%|██████████| 16/16 [00:00<00:00, 1230.95it/s]\n",
      "Epoch: 21/25, train loss: 3.2122, val loss: 3.2757:  84%|████████▍ | 21/25 [00:13<00:02,  1.51it/s]"
     ]
    },
    {
     "name": "stdout",
     "output_type": "stream",
     "text": [
      "480\n"
     ]
    },
    {
     "name": "stderr",
     "output_type": "stream",
     "text": [
      "100%|██████████| 125/125 [00:00<00:00, 196.85it/s]\n",
      "100%|██████████| 16/16 [00:00<00:00, 1142.78it/s]\n",
      "Epoch: 22/25, train loss: 3.1922, val loss: 3.1173:  88%|████████▊ | 22/25 [00:14<00:01,  1.52it/s]"
     ]
    },
    {
     "name": "stdout",
     "output_type": "stream",
     "text": [
      "480\n"
     ]
    },
    {
     "name": "stderr",
     "output_type": "stream",
     "text": [
      "100%|██████████| 125/125 [00:00<00:00, 194.70it/s]\n",
      "100%|██████████| 16/16 [00:00<00:00, 1333.48it/s]\n",
      "Epoch: 23/25, train loss: 3.1327, val loss: 3.1490:  92%|█████████▏| 23/25 [00:14<00:01,  1.51it/s]"
     ]
    },
    {
     "name": "stdout",
     "output_type": "stream",
     "text": [
      "480\n"
     ]
    },
    {
     "name": "stderr",
     "output_type": "stream",
     "text": [
      "100%|██████████| 125/125 [00:00<00:00, 200.00it/s]\n",
      "100%|██████████| 16/16 [00:00<00:00, 1230.77it/s]\n",
      "Epoch: 24/25, train loss: 3.1678, val loss: 3.2287:  96%|█████████▌| 24/25 [00:15<00:00,  1.53it/s]"
     ]
    },
    {
     "name": "stdout",
     "output_type": "stream",
     "text": [
      "480\n"
     ]
    },
    {
     "name": "stderr",
     "output_type": "stream",
     "text": [
      "100%|██████████| 125/125 [00:00<00:00, 197.47it/s]\n",
      "100%|██████████| 16/16 [00:00<00:00, 1142.94it/s]\n",
      "Epoch: 25/25, train loss: 3.1837, val loss: 3.2417: 100%|██████████| 25/25 [00:16<00:00,  1.55it/s]\n"
     ]
    },
    {
     "data": {
      "image/png": "[encoded data removed]",
      "text/plain": [
       "<Figure size 1000x500 with 1 Axes>"
      ]
     },
     "metadata": {},
     "output_type": "display_data"
    }
   ],
   "source": [
    "# train the vae\n",
    "\n",
    "loss_history_moons = train_vae(vae_moons, torch.Tensor(X_train), torch.Tensor(X_val), n_epochs=25, batchsize=32)\n",
    "\n",
    "# plot loss history\n",
    "\n",
    "plot_loss_history(loss_history_moons)"
   ]
  },
  {
   "cell_type": "code",
   "execution_count": 163,
   "metadata": {},
   "outputs": [
    {
     "data": {
      "text/plain": [
       "Text(0, 0.5, 'y')"
      ]
     },
     "execution_count": 163,
     "metadata": {},
     "output_type": "execute_result"
    },
    {
     "data": {
      "image/png": "[encoded data removed]",
      "text/plain": [
       "<Figure size 1000x500 with 1 Axes>"
      ]
     },
     "metadata": {},
     "output_type": "display_data"
    }
   ],
   "source": [
    "# test reconstruction ability\n",
    "\n",
    "vae_moons.eval()\n",
    "\n",
    "with torch.no_grad():\n",
    "    X_test_recon, _, _ = vae_moons(torch.Tensor(X_test))\n",
    "\n",
    "fig, ax = plt.subplots(1, 1, figsize=(10, 5))\n",
    "\n",
    "ax.scatter(X_test[:, 0], X_test[:, 1], label='original', marker='o')\n",
    "ax.scatter(X_test_recon[:, 0], X_test_recon[:, 1], label='reconstruction', marker='x')\n",
    "\n",
    "ax.set_xlabel('x')\n",
    "ax.set_ylabel('y')\n"
   ]
  },
  {
   "cell_type": "code",
   "execution_count": null,
   "metadata": {},
   "outputs": [],
   "source": []
  }
 ],
 "metadata": {
  "kernelspec": {
   "display_name": ".venv",
   "language": "python",
   "name": "python3"
  },
  "language_info": {
   "codemirror_mode": {
    "name": "ipython",
    "version": 3
   },
   "file_extension": ".py",
   "mimetype": "text/x-python",
   "name": "python",
   "nbconvert_exporter": "python",
   "pygments_lexer": "ipython3",
   "version": "3.11.6"
  }
 },
 "nbformat": 4,
 "nbformat_minor": 2
}
