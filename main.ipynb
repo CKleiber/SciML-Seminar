{
 "cells": [
  {
   "cell_type": "code",
   "execution_count": null,
   "metadata": {},
   "outputs": [],
   "source": [
    "import tensorflow as tf\n",
    "from keras import layers"
   ]
  },
  {
   "cell_type": "code",
   "execution_count": null,
   "metadata": {},
   "outputs": [],
   "source": [
    "# simple autoecnoder\n",
    "\n",
    "class Simple_Autoencoder:\n",
    "    def __init__(self, input_size, num_hidden_layers, hidden_layer_size, bottleneck_size):\n",
    "        self.input_size = input_size\n",
    "        self.output_size = input_size\n",
    "        self.bottleneck_size = bottleneck_size\n",
    "        self.num_hidden_layers = num_hidden_layers\n",
    "        self.hidden_layer_size = hidden_layer_size\n",
    "\n",
    "        self.optimizer = tf.keras.optimizers.legacy.Adam(learning_rate=0.001)\n",
    "        self.loss = tf.keras.losses.MeanSquaredError()\n",
    "\n",
    "        # build\n",
    "\n",
    "        return"
   ]
  }
 ],
 "metadata": {
  "kernelspec": {
   "display_name": ".venv",
   "language": "python",
   "name": "python3"
  },
  "language_info": {
   "codemirror_mode": {
    "name": "ipython",
    "version": 3
   },
   "file_extension": ".py",
   "mimetype": "text/x-python",
   "name": "python",
   "nbconvert_exporter": "python",
   "pygments_lexer": "ipython3",
   "version": "3.11.6"
  }
 },
 "nbformat": 4,
 "nbformat_minor": 2
}
